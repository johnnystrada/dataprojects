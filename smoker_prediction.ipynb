{
  "metadata": {
    "kernelspec": {
      "language": "python",
      "display_name": "Python 3",
      "name": "python3"
    },
    "language_info": {
      "pygments_lexer": "ipython3",
      "nbconvert_exporter": "python",
      "version": "3.6.4",
      "file_extension": ".py",
      "codemirror_mode": {
        "name": "ipython",
        "version": 3
      },
      "name": "python",
      "mimetype": "text/x-python"
    },
    "colab": {
      "provenance": [],
      "include_colab_link": true
    }
  },
  "nbformat_minor": 0,
  "nbformat": 4,
  "cells": [
    {
      "cell_type": "markdown",
      "metadata": {
        "id": "view-in-github",
        "colab_type": "text"
      },
      "source": [
        "<a href=\"https://colab.research.google.com/github/johnnystrada/dataprojects/blob/master/smoker_prediction.ipynb\" target=\"_parent\"><img src=\"https://colab.research.google.com/assets/colab-badge.svg\" alt=\"Open In Colab\"/></a>"
      ]
    },
    {
      "cell_type": "code",
      "source": [
        "import os\n",
        "import sys\n",
        "from tempfile import NamedTemporaryFile\n",
        "from urllib.request import urlopen\n",
        "from urllib.parse import unquote, urlparse\n",
        "from urllib.error import HTTPError\n",
        "from zipfile import ZipFile\n",
        "import tarfile\n",
        "import shutil\n",
        "import numpy as np # linear algebra\n",
        "import pandas as pd # data processing, CSV file I/O (e.g. pd.read_csv)"
      ],
      "metadata": {
        "_uuid": "8f2839f25d086af736a60e9eeb907d3b93b6e0e5",
        "_cell_guid": "b1076dfc-b9ad-4769-8c92-a6c4dae69d19",
        "execution": {
          "iopub.status.busy": "2023-11-14T20:31:46.379262Z",
          "iopub.execute_input": "2023-11-14T20:31:46.37971Z",
          "iopub.status.idle": "2023-11-14T20:31:46.390358Z",
          "shell.execute_reply.started": "2023-11-14T20:31:46.379679Z",
          "shell.execute_reply": "2023-11-14T20:31:46.388748Z"
        },
        "trusted": true,
        "id": "RJxogmNEzLFK"
      },
      "execution_count": null,
      "outputs": []
    },
    {
      "cell_type": "code",
      "source": [
        "import statsmodels.api as sm, pprint, math, seaborn as sns\n",
        "import matplotlib.pyplot as plt\n",
        "import sklearn as sk\n",
        "from sklearn.model_selection import train_test_split as tts\n",
        "from sklearn.linear_model import LogisticRegression as LogReg\n",
        "from sklearn.preprocessing import StandardScaler, scale, MinMaxScaler\n",
        "from sklearn.model_selection import train_test_split as tts\n",
        "from sklearn.metrics import r2_score, roc_auc_score, roc_curve, auc, confusion_matrix\n"
      ],
      "metadata": {
        "execution": {
          "iopub.status.busy": "2023-11-14T20:31:46.393466Z",
          "iopub.execute_input": "2023-11-14T20:31:46.393986Z",
          "iopub.status.idle": "2023-11-14T20:31:46.405034Z",
          "shell.execute_reply.started": "2023-11-14T20:31:46.393945Z",
          "shell.execute_reply": "2023-11-14T20:31:46.403798Z"
        },
        "trusted": true,
        "id": "8avu71uWzLFL"
      },
      "execution_count": null,
      "outputs": []
    },
    {
      "cell_type": "code",
      "source": [
        "df = pd.read_csv('/train.csv')\n",
        "df.drop(columns = 'eyesight(right)', inplace=True)\n",
        "df_weight_age = df['weight(kg)'].groupby(df['age'])\n",
        "df_weight_age_med = pd.DataFrame(df_weight_age.median())\n",
        "df_weight_age_med.rename(columns={'weight(kg)':'med_weight'},inplace=True)\n",
        "df_height_age = df['height(cm)'].groupby(df['age'])\n",
        "df_height_age_med = pd.DataFrame(df_height_age.median())\n",
        "df_height_age_med.rename(columns={'height(cm)':'med_height'}, inplace=True)\n",
        "df = df.merge(df_weight_age_med,on=['age'])\n",
        "df = df.merge(df_height_age_med,on=['age'])\n",
        "df['height(m)'] = df['height(cm)'] / 100\n",
        "df['bmi'] = df['weight(kg)'] / (df['height(m)']*df['height(m)'])\n",
        "df['med_height_diff'] = df['height(cm)'] - df['med_height']\n",
        "df['med_weight_diff'] = df['weight(kg)'] - df['med_weight']\n",
        "df_model = df.copy()\n",
        "df_model.drop(columns = ['weight(kg)','height(cm)', 'med_weight', 'med_height'], inplace=True)\n",
        "# Adding a constant to the model\n",
        "df_model['const'] = 1\n",
        "df_target = pd.DataFrame(df['smoking'])\n",
        "df_model.drop(columns=['id', 'smoking', 'const'], inplace=True)\n",
        "df_scaled = pd.DataFrame(scale(df_model), columns=df_model.columns)\n",
        "df_model = df_scaled\n",
        "df_model = df_scaled.merge(df_target,left_index=True, right_index=True)\n",
        "df_model['age'] = df['age']\n",
        "df_model = df_model.drop(df_model[(df_model.age == 40)].sample(frac=.5).index)\n",
        "df_model = df_model.drop(df_model[(df_model.age > 65)].index)\n",
        "df_model['const'] = 1\n",
        "df_model.drop(columns = 'hearing(right)', inplace=True)\n",
        "df_model.drop(columns = 'serum creatinine', inplace=True)\n",
        "tX1, vX1, tY1, vY1 = tts(df_model.drop(['smoking'], axis=1), df_model['smoking'], test_size = 0.2, random_state=123)\n",
        "# Logistic regression model summary\n",
        "md1 = sm.Logit(tY1, tX1).fit()\n",
        "print(md1.summary(title='Smoking Prediction Model', alpha=.05))\n",
        "# Creating prediction probabilities and labels\n",
        "pY_prob1 = md1.predict(vX1)\n",
        "pY_prob1 = pY_prob1\n",
        "pY1 = (pY_prob1 > 0.85) * 1\n",
        "AUC = roc_auc_score(vY1, pY_prob1)\n",
        "\n",
        "dfCM = pd.DataFrame(confusion_matrix(vY1, pY1), index=['True+','True-'], columns=['Pred+','Pred-'])\n",
        "print(f'Confusion matrix:\\n{dfCM}')\n",
        "print(f'Out of sample accuracy: {np.mean(pY1 == vY1):.2f} and AUC:{AUC:.2f}')\n",
        "\n",
        "fpr, tpr, thresholds = roc_curve(vY1, pY_prob1)\n",
        "\n",
        "plt.rcParams['figure.figsize'] = [5, 5]\n",
        "ax = pd.DataFrame([fpr, tpr], index=['fpr','tpr']).T.plot(\n",
        "    'fpr','tpr', kind='line', grid=True, title='Receiver Operating Characteristic', label=f'ROC curve. AUC = {AUC:.2f}');\n",
        "\n",
        "ax.plot([0, 1], [0, 1], 'r--');  # random predictions curve\n",
        "ax.set_ylabel('True Positive Rate or (Sensitivity)');\n",
        "ax.set_xlabel('False Positive Rate or (1 - Specifity)');\n"
      ],
      "metadata": {
        "execution": {
          "iopub.status.busy": "2023-11-14T20:31:46.406552Z",
          "iopub.execute_input": "2023-11-14T20:31:46.406892Z",
          "iopub.status.idle": "2023-11-14T20:31:48.834079Z",
          "shell.execute_reply.started": "2023-11-14T20:31:46.406865Z",
          "shell.execute_reply": "2023-11-14T20:31:48.832858Z"
        },
        "trusted": true,
        "id": "fRM7BFgLzLFL"
      },
      "execution_count": null,
      "outputs": []
    },
    {
      "cell_type": "code",
      "source": [
        "df_test = pd.read_csv('/test.csv')\n",
        "df_test_raw = pd.read_csv('/test.csv')\n",
        "df_weight_age = df_test['weight(kg)'].groupby(df_test['age'])\n",
        "df_weight_age_med = pd.DataFrame(df_weight_age.median())\n",
        "df_weight_age_med.rename(columns={'weight(kg)':'med_weight'},inplace=True)\n",
        "df_height_age = df_test['height(cm)'].groupby(df_test['age'])\n",
        "df_height_age_med = pd.DataFrame(df_height_age.median())\n",
        "df_height_age_med.rename(columns={'height(cm)':'med_height'}, inplace=True)\n",
        "df_test = df_test.merge(df_weight_age_med,on=['age'])\n",
        "df_test = df_test.merge(df_height_age_med,on=['age'])\n",
        "df_test['height(m)'] = df_test['height(cm)'] / 100\n",
        "df_test['bmi'] = df_test['weight(kg)'] / (df_test['height(m)']*df_test['height(m)'])\n",
        "df_test['med_height_diff'] = df_test['height(cm)'] - df_test['med_height']\n",
        "df_test['med_weight_diff'] = df_test['weight(kg)'] - df_test['med_weight']\n",
        "df_test.drop(columns = ['eyesight(right)','serum creatinine','id','height(cm)','weight(kg)','eyesight(right)','hearing(right)', 'med_weight', 'med_height'], inplace=True)\n",
        "df_test['const'] = 1\n",
        "pY_prob0 = md1.predict(df_test)\n",
        "df_test = df_test.merge(df_test_raw['id'], left_index=True, right_index=True)\n",
        "pY_prob0 = round(pY_prob0,4)\n",
        "pY0 = (pY_prob0 > 0.8) * 1\n",
        "df_prob = pd.Series(pY_prob0)\n",
        "df_prob = pd.DataFrame(df_prob, columns=['smoking'])\n",
        "df_pred = pd.DataFrame(pY0, columns=['pred'])\n",
        "prediction_results = df_prob.merge(df_test['id'], left_index=True, right_index=True).merge(df_pred['pred'], left_index=True, right_index=True)\n",
        "prediction_results.to_csv('submission.csv')\n",
        "submission = pd.DataFrame({ 'id': prediction_results.id.values, 'smoking': pY_prob0 })\n",
        "submission.to_csv('submission.csv', index=False)"
      ],
      "metadata": {
        "execution": {
          "iopub.status.busy": "2023-11-14T20:31:48.836523Z",
          "iopub.execute_input": "2023-11-14T20:31:48.83817Z",
          "iopub.status.idle": "2023-11-14T20:31:50.268416Z",
          "shell.execute_reply.started": "2023-11-14T20:31:48.83812Z",
          "shell.execute_reply": "2023-11-14T20:31:50.266864Z"
        },
        "trusted": true,
        "id": "t5rY94OjzLFM"
      },
      "execution_count": null,
      "outputs": []
    }
  ]
}