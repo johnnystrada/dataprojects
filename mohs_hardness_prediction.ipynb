{
  "metadata": {
    "kernelspec": {
      "language": "python",
      "display_name": "Python 3",
      "name": "python3"
    },
    "language_info": {
      "name": "python",
      "version": "3.10.12",
      "mimetype": "text/x-python",
      "codemirror_mode": {
        "name": "ipython",
        "version": 3
      },
      "pygments_lexer": "ipython3",
      "nbconvert_exporter": "python",
      "file_extension": ".py"
    },
    "kaggle": {
      "accelerator": "none",
      "dataSources": [
        {
          "sourceId": 60892,
          "databundleVersionId": 6989718,
          "sourceType": "competition"
        }
      ],
      "dockerImageVersionId": 30587,
      "isInternetEnabled": true,
      "language": "python",
      "sourceType": "notebook",
      "isGpuEnabled": false
    },
    "colab": {
      "provenance": [],
      "include_colab_link": true
    }
  },
  "nbformat_minor": 0,
  "nbformat": 4,
  "cells": [
    {
      "cell_type": "markdown",
      "metadata": {
        "id": "view-in-github",
        "colab_type": "text"
      },
      "source": [
        "<a href=\"https://colab.research.google.com/github/johnnystrada/dataprojects/blob/master/mohs_hardness_prediction.ipynb\" target=\"_parent\"><img src=\"https://colab.research.google.com/assets/colab-badge.svg\" alt=\"Open In Colab\"/></a>"
      ]
    },
    {
      "cell_type": "code",
      "source": [
        "import os\n",
        "import sys\n",
        "from tempfile import NamedTemporaryFile\n",
        "from urllib.request import urlopen\n",
        "from urllib.parse import unquote, urlparse\n",
        "from urllib.error import HTTPError\n",
        "from zipfile import ZipFile\n",
        "import tarfile\n",
        "import shutil\n",
        "import numpy as np # linear algebra\n",
        "import pandas as pd # data processing, CSV file I/O (e.g. pd.read_csv)\n",
        "from sklearn.model_selection import train_test_split\n",
        "from sklearn.tree import DecisionTreeRegressor\n",
        "from sklearn.model_selection import GridSearchCV"
      ],
      "metadata": {
        "_uuid": "8f2839f25d086af736a60e9eeb907d3b93b6e0e5",
        "_cell_guid": "b1076dfc-b9ad-4769-8c92-a6c4dae69d19",
        "execution": {
          "iopub.status.busy": "2023-11-28T22:20:12.722017Z",
          "iopub.execute_input": "2023-11-28T22:20:12.723164Z",
          "iopub.status.idle": "2023-11-28T22:20:13.167208Z",
          "shell.execute_reply.started": "2023-11-28T22:20:12.723084Z",
          "shell.execute_reply": "2023-11-28T22:20:13.165825Z"
        },
        "trusted": true,
        "id": "sM5_bqt2xZ4B"
      },
      "execution_count": null,
      "outputs": []
    },
    {
      "cell_type": "code",
      "source": [
        "\n",
        "# Read in the data\n",
        "train = pd.read_csv('/train.csv')\n",
        "\n",
        "# create a dataframe with the independent variables\n",
        "X = train.drop(columns=['id', 'Hardness'])\n",
        "\n",
        "# create a dataframe with the dependent variable\n",
        "y = train['Hardness']\n",
        "\n",
        "model = DecisionTreeRegressor()\n",
        "\n",
        "# run a gridsearch cv and find the best parameters for the model\n",
        "param_grid = {'max_depth': [4, 5, 6, 7, 8, 9, 10],\n",
        "              'min_samples_split': [2, 3, 4, 5, 6,],\n",
        "              'min_weight_fraction_leaf': [0.01, 0.02, 0.03, 0.04, 0.05],\n",
        "              'min_impurity_decrease': [0.0, 0.01, 0.02, 0.03, 0.04, 0.05]}\n",
        "grid_search = GridSearchCV(model, param_grid, cv=5)\n",
        "grid_search.fit(X, y)\n",
        "best_params = grid_search.best_params_\n",
        "# assign the best parameters to the model\n",
        "model = DecisionTreeRegressor(max_depth=best_params['max_depth'],\n",
        "                              min_samples_split=best_params['min_samples_split'],\n",
        "                              min_weight_fraction_leaf=best_params['min_weight_fraction_leaf'],\n",
        "                              min_impurity_decrease=best_params['min_impurity_decrease'])\n",
        "\n",
        "# fit the model\n",
        "model.fit(X, y)\n",
        "\n",
        "# load in the test data\n",
        "test = pd.read_csv('/test.csv')\n",
        "test_id = pd.DataFrame(test['id'])\n",
        "# drop the id column\n",
        "test = test.drop(columns=['id'])\n",
        "# apply the model to the test data\n",
        "y_pred = model.predict(test)\n",
        "test = pd.DataFrame(y_pred)\n",
        "test = test.join(pd.DataFrame(test_id.id))\n",
        "test = test.rename(columns={0: 'Hardness'})\n",
        "submission = pd.DataFrame({ 'id': test.id.values, 'Hardness': test.Hardness.values })\n",
        "submission.to_csv('submission.csv', index=False)"
      ],
      "metadata": {
        "execution": {
          "iopub.status.busy": "2023-11-28T22:20:13.169019Z",
          "iopub.execute_input": "2023-11-28T22:20:13.169703Z",
          "iopub.status.idle": "2023-11-28T22:22:22.912186Z",
          "shell.execute_reply.started": "2023-11-28T22:20:13.169667Z",
          "shell.execute_reply": "2023-11-28T22:22:22.910916Z"
        },
        "trusted": true,
        "id": "y1tcQVFPxZ4C"
      },
      "execution_count": null,
      "outputs": []
    }
  ]
}